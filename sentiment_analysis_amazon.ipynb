{
  "nbformat": 4,
  "nbformat_minor": 0,
  "metadata": {
    "colab": {
      "provenance": []
    },
    "kernelspec": {
      "name": "python3",
      "display_name": "Python 3"
    },
    "language_info": {
      "name": "python"
    }
  },
  "cells": [
    {
      "cell_type": "code",
      "execution_count": 6,
      "metadata": {
        "id": "uocp00-zTIky"
      },
      "outputs": [],
      "source": [
        "import pandas as pd  # Importa la biblioteca Pandas para trabajar con datos estructurados (manejo de tablas y DataFrames).\n",
        "from sklearn.model_selection import train_test_split  # Función para dividir los datos en conjuntos de entrenamiento y prueba.\n",
        "from sklearn.feature_extraction.text import CountVectorizer  # Herramienta para convertir texto en vectores de frecuencia de palabras (bolsa de palabras).\n",
        "from sklearn.naive_bayes import MultinomialNB  # Modelo de clasificación basado en el algoritmo de Naive Bayes Multinomial, útil para datos categóricos como texto.\n",
        "from sklearn.ensemble import RandomForestClassifier  # Implementa un modelo de clasificación basado en un conjunto de árboles de decisión (Random Forest).\n",
        "from sklearn.svm import SVC  # Implementa un modelo de clasificación basado en Máquinas de Soporte Vectorial (Support Vector Machines).\n",
        "from sklearn.metrics import classification_report, confusion_matrix  # Herramientas para evaluar modelos de clasificación, generan métricas y una matriz de confusión.\n",
        "import matplotlib.pyplot as plt  # Biblioteca para crear gráficos y visualizar datos de manera flexible y detallada.\n",
        "import seaborn as sns  # Extensión de Matplotlib para generar gráficos más atractivos y fáciles de usar, útil para análisis exploratorio."
      ]
    },
    {
      "cell_type": "code",
      "source": [
        "file_path = \"Reviews.csv\"\n",
        " # Define la ruta al archivo CSV que contiene los datos; en este caso, se llama 'Reviews.csv'.\n",
        "df = pd.read_csv(file_path)  # Carga el archivo CSV en un DataFrame de Pandas, permitiendo manipular y analizar los datos de forma estructurada."
      ],
      "metadata": {
        "id": "nqAW9R8EVMg_"
      },
      "execution_count": 8,
      "outputs": []
    },
    {
      "cell_type": "code",
      "source": [
        "print(\"\\nColumnas disponibles en el dataset:\")\n",
        "print(df.columns.tolist())"
      ],
      "metadata": {
        "colab": {
          "base_uri": "https://localhost:8080/"
        },
        "id": "raUj6Lud-FJ8",
        "outputId": "da423562-e360-4336-a1e1-7a8b0f1b672f"
      },
      "execution_count": 9,
      "outputs": [
        {
          "output_type": "stream",
          "name": "stdout",
          "text": [
            "\n",
            "Columnas disponibles en el dataset:\n",
            "['Id', 'ProductId', 'UserId', 'ProfileName', 'HelpfulnessNumerator', 'HelpfulnessDenominator', 'Score', 'Time', 'Summary', 'Text']\n"
          ]
        }
      ]
    },
    {
      "cell_type": "markdown",
      "source": [
        "mostrar la cabecera del dataset\n"
      ],
      "metadata": {
        "id": "IHFApOIZ-ytb"
      }
    },
    {
      "cell_type": "code",
      "source": [
        "print(\"\\nPrimeras filas del dataset:\")\n",
        "print(df.head())"
      ],
      "metadata": {
        "colab": {
          "base_uri": "https://localhost:8080/"
        },
        "id": "r25LLZdm-mt4",
        "outputId": "06154bdc-1bc7-487a-de39-53025125e378"
      },
      "execution_count": 11,
      "outputs": [
        {
          "output_type": "stream",
          "name": "stdout",
          "text": [
            "\n",
            "Primeras filas del dataset:\n",
            "   Id   ProductId          UserId                      ProfileName  \\\n",
            "0   1  B001E4KFG0  A3SGXH7AUHU8GW                       delmartian   \n",
            "1   2  B00813GRG4  A1D87F6ZCVE5NK                           dll pa   \n",
            "2   3  B000LQOCH0   ABXLMWJIXXAIN  Natalia Corres \"Natalia Corres\"   \n",
            "3   4  B000UA0QIQ  A395BORC6FGVXV                             Karl   \n",
            "4   5  B006K2ZZ7K  A1UQRSCLF8GW1T    Michael D. Bigham \"M. Wassir\"   \n",
            "\n",
            "   HelpfulnessNumerator  HelpfulnessDenominator  Score          Time  \\\n",
            "0                   1.0                     1.0    5.0  1.303862e+09   \n",
            "1                   0.0                     0.0    1.0  1.346976e+09   \n",
            "2                   1.0                     1.0    4.0  1.219018e+09   \n",
            "3                   3.0                     3.0    2.0  1.307923e+09   \n",
            "4                   0.0                     0.0    5.0  1.350778e+09   \n",
            "\n",
            "                 Summary                                               Text  \n",
            "0  Good Quality Dog Food  I have bought several of the Vitality canned d...  \n",
            "1      Not as Advertised  Product arrived labeled as Jumbo Salted Peanut...  \n",
            "2  \"Delight\" says it all  This is a confection that has been around a fe...  \n",
            "3         Cough Medicine  If you are looking for the secret ingredient i...  \n",
            "4            Great taffy  Great taffy at a great price.  There was a wid...  \n"
          ]
        }
      ]
    },
    {
      "cell_type": "markdown",
      "source": [
        "selecciono las columnas text y score"
      ],
      "metadata": {
        "id": "b8MI28xp_XEv"
      }
    },
    {
      "cell_type": "code",
      "source": [
        "# Seleccionamos solo las columnas relevantes\n",
        "df = df[['Text', 'Score']]\n",
        "\n",
        "# Mostramos las primeras filas para confirmar\n",
        "print(df.head())\n"
      ],
      "metadata": {
        "colab": {
          "base_uri": "https://localhost:8080/"
        },
        "id": "hjuuIaSu-_oB",
        "outputId": "04b96976-eaa7-4e4e-a062-431345ac884f"
      },
      "execution_count": 12,
      "outputs": [
        {
          "output_type": "stream",
          "name": "stdout",
          "text": [
            "                                                Text  Score\n",
            "0  I have bought several of the Vitality canned d...    5.0\n",
            "1  Product arrived labeled as Jumbo Salted Peanut...    1.0\n",
            "2  This is a confection that has been around a fe...    4.0\n",
            "3  If you are looking for the secret ingredient i...    2.0\n",
            "4  Great taffy at a great price.  There was a wid...    5.0\n"
          ]
        }
      ]
    },
    {
      "cell_type": "markdown",
      "source": [
        "creo la columna de sentimiento"
      ],
      "metadata": {
        "id": "Whh-UN1j_rXD"
      }
    },
    {
      "cell_type": "code",
      "source": [
        "# Creamos la columna 'Sentiment' basada en la puntuación\n",
        "def get_sentiment(score):\n",
        "    if score >= 4:\n",
        "        return \"positive\"\n",
        "    elif score == 3:\n",
        "        return \"neutral\"\n",
        "    else:\n",
        "        return \"negative\"\n",
        "\n",
        "# Aplicamos la función a la columna 'Score'\n",
        "df['Sentiment'] = df['Score'].apply(get_sentiment)\n",
        "\n",
        "# Mostramos las primeras filas para verificar\n",
        "print(df.head())\n"
      ],
      "metadata": {
        "colab": {
          "base_uri": "https://localhost:8080/"
        },
        "id": "0Wy-MjJJ_oH7",
        "outputId": "94ed2cf1-205d-4a02-cc38-778424253ea3"
      },
      "execution_count": 13,
      "outputs": [
        {
          "output_type": "stream",
          "name": "stdout",
          "text": [
            "                                                Text  Score Sentiment\n",
            "0  I have bought several of the Vitality canned d...    5.0  positive\n",
            "1  Product arrived labeled as Jumbo Salted Peanut...    1.0  negative\n",
            "2  This is a confection that has been around a fe...    4.0  positive\n",
            "3  If you are looking for the secret ingredient i...    2.0  negative\n",
            "4  Great taffy at a great price.  There was a wid...    5.0  positive\n"
          ]
        }
      ]
    },
    {
      "cell_type": "markdown",
      "source": [
        "mostramos la distribucion de sentimiento"
      ],
      "metadata": {
        "id": "diXmyCL4ALX4"
      }
    },
    {
      "cell_type": "code",
      "source": [
        "# Contamos cuántos registros hay por cada tipo de sentimiento\n",
        "print(\"Distribución de sentimientos:\")\n",
        "print(df['Sentiment'].value_counts())\n",
        "\n",
        "# Mostramos el porcentaje de cada categoría\n",
        "print(\"\\nPorcentaje por categoría:\")\n",
        "print(df['Sentiment'].value_counts(normalize=True) * 100)\n"
      ],
      "metadata": {
        "colab": {
          "base_uri": "https://localhost:8080/"
        },
        "id": "symAvEkOAGOT",
        "outputId": "61be88c6-b0d4-4ad7-a916-2ff6a19c5a8d"
      },
      "execution_count": 14,
      "outputs": [
        {
          "output_type": "stream",
          "name": "stdout",
          "text": [
            "Distribución de sentimientos:\n",
            "Sentiment\n",
            "positive    200047\n",
            "negative     37661\n",
            "neutral      20189\n",
            "Name: count, dtype: int64\n",
            "\n",
            "Porcentaje por categoría:\n",
            "Sentiment\n",
            "positive    77.568564\n",
            "negative    14.603117\n",
            "neutral      7.828319\n",
            "Name: proportion, dtype: float64\n"
          ]
        }
      ]
    },
    {
      "cell_type": "code",
      "source": [
        "import matplotlib.pyplot as plt\n",
        "\n",
        "# Visualizamos la distribución de sentimientos\n",
        "df['Sentiment'].value_counts().plot(kind='bar', color=['green', 'gray', 'red'])\n",
        "plt.title('Distribución de Sentimientos')\n",
        "plt.xlabel('Sentimiento')\n",
        "plt.ylabel('Cantidad de reseñas')\n",
        "plt.show()\n"
      ],
      "metadata": {
        "colab": {
          "base_uri": "https://localhost:8080/",
          "height": 519
        },
        "id": "plJncOANAfkn",
        "outputId": "a66e984d-1026-4aa3-c4f8-258b5dbed594"
      },
      "execution_count": 15,
      "outputs": [
        {
          "output_type": "display_data",
          "data": {
            "text/plain": [
              "<Figure size 640x480 with 1 Axes>"
            ],
            "image/png": "[encoded data removed]"
          },
          "metadata": {}
        }
      ]
    },
    {
      "cell_type": "markdown",
      "source": [
        "punto 2 Preguntas rápidas para reflexión:\n",
        " ¿Qué tipo de datos encontramos en las columnas?\n",
        " ¿Cuál es la proporción de reseñas positivas vs. negativas?"
      ],
      "metadata": {
        "id": "LcgXBOJeBczF"
      }
    },
    {
      "cell_type": "code",
      "source": [
        "# Ver los tipos de datos de cada columna\n",
        "print(df.dtypes)\n",
        "\n",
        "# Verificar si hay valores nulos\n",
        "print(\"\\nValores nulos por columna:\")\n",
        "print(df.isnull().sum())\n"
      ],
      "metadata": {
        "colab": {
          "base_uri": "https://localhost:8080/"
        },
        "id": "FOIej3FoBZhi",
        "outputId": "5322dd32-0547-44c9-aaea-9712d9e137b7"
      },
      "execution_count": 16,
      "outputs": [
        {
          "output_type": "stream",
          "name": "stdout",
          "text": [
            "Text          object\n",
            "Score        float64\n",
            "Sentiment     object\n",
            "dtype: object\n",
            "\n",
            "Valores nulos por columna:\n",
            "Text         1\n",
            "Score        1\n",
            "Sentiment    0\n",
            "dtype: int64\n"
          ]
        }
      ]
    },
    {
      "cell_type": "markdown",
      "source": [
        "| Columna       | Tipo de dato | Qué significa                                                                                             | Cómo se usa                                                         |\n",
        "| ------------- | ------------ | --------------------------------------------------------------------------------------------------------- | ------------------------------------------------------------------- |\n",
        "| **Text**      | `object`     | Son **cadenas de texto** (las reseñas escritas por los clientes).                                         | Es la **variable de entrada (X)** para el modelo.                   |\n",
        "| **Score**     | `float64`    | Son **números decimales** que representan la puntuación o calificación (por ejemplo, de 1 a 5 estrellas). | Se usa para crear la **etiqueta de sentimiento**.                   |\n",
        "| **Sentiment** | `object`     | Texto que indica el sentimiento (positivo, negativo o neutral).                                           | Es la **variable objetivo (y)** que el modelo aprenderá a predecir. |\n"
      ],
      "metadata": {
        "id": "TipWrRHsD0-q"
      }
    },
    {
      "cell_type": "code",
      "source": [],
      "metadata": {
        "id": "SQnfNvq-D0xU"
      },
      "execution_count": null,
      "outputs": []
    },
    {
      "cell_type": "markdown",
      "source": [
        "| Columna       | Valores nulos | Interpretación                                                                          |\n",
        "| ------------- | ------------- | --------------------------------------------------------------------------------------- |\n",
        "| **Text**      | 1             | Hay **una reseña vacía o faltante**. Se puede eliminar sin problema.                    |\n",
        "| **Score**     | 1             | También hay **una puntuación faltante**. Se puede eliminar para no afectar el análisis. |\n",
        "| **Sentiment** | 0             | Perfecto , todas las reseñas tienen asignado un sentimiento.                           |\n"
      ],
      "metadata": {
        "id": "k8_jJAysD-tG"
      }
    },
    {
      "cell_type": "code",
      "source": [
        "# Eliminar filas con valores nulos en Text o Score\n",
        "df = df.dropna(subset=[\"Text\", \"Score\"])\n",
        "\n",
        "# Confirmar que ya no hay valores nulos\n",
        "print(\"Valores nulos restantes por columna:\")\n",
        "print(df.isnull().sum())\n"
      ],
      "metadata": {
        "colab": {
          "base_uri": "https://localhost:8080/"
        },
        "id": "EirNEoYYEPo7",
        "outputId": "b09222ec-cca9-4bdb-af11-364760f5c918"
      },
      "execution_count": 17,
      "outputs": [
        {
          "output_type": "stream",
          "name": "stdout",
          "text": [
            "Valores nulos restantes por columna:\n",
            "Text         0\n",
            "Score        0\n",
            "Sentiment    0\n",
            "dtype: int64\n"
          ]
        }
      ]
    },
    {
      "cell_type": "code",
      "source": [
        "# Calcular la cantidad de reseñas por tipo de sentimiento\n",
        "conteo_sentimientos = df[\"Sentiment\"].value_counts()\n",
        "\n",
        "# Calcular los porcentajes\n",
        "porcentaje_sentimientos = df[\"Sentiment\"].value_counts(normalize=True) * 100\n",
        "\n",
        "# Mostrar ambos resultados\n",
        "print(\"Cantidad de reseñas por sentimiento:\\n\", conteo_sentimientos)\n",
        "print(\"\\nPorcentaje de reseñas por sentimiento:\\n\", porcentaje_sentimientos)\n"
      ],
      "metadata": {
        "colab": {
          "base_uri": "https://localhost:8080/"
        },
        "id": "fuAKkajbEaI8",
        "outputId": "4b7a7a9b-133c-4167-c0d9-4d7284c171a5"
      },
      "execution_count": 18,
      "outputs": [
        {
          "output_type": "stream",
          "name": "stdout",
          "text": [
            "Cantidad de reseñas por sentimiento:\n",
            " Sentiment\n",
            "positive    200047\n",
            "negative     37660\n",
            "neutral      20189\n",
            "Name: count, dtype: int64\n",
            "\n",
            "Porcentaje de reseñas por sentimiento:\n",
            " Sentiment\n",
            "positive    77.568865\n",
            "negative    14.602786\n",
            "neutral      7.828349\n",
            "Name: proportion, dtype: float64\n"
          ]
        }
      ]
    },
    {
      "cell_type": "markdown",
      "source": [
        "Pregunta 2: ¿Cuál es la proporción de reseñas positivas vs negativas?\n",
        "\n",
        "\n",
        "Al analizar la distribución de los sentimientos en el dataset, se observa lo siguiente:\n",
        "\n",
        "77.57 % de las reseñas son positivas,\n",
        "\n",
        "14.60 % son negativas, y\n",
        "\n",
        "7.83 % son neutrales.\n",
        "\n",
        "Esto indica que la mayoría de los clientes manifestaron experiencias favorables con el producto o servicio, mientras que una proporción menor expresó opiniones negativas o neutrales.\n",
        "\n",
        "Desde el punto de vista del modelado, esta distribución muestra un fuerte desbalance de clases, donde predominan las reseñas positivas. Esto puede afectar el desempeño del modelo, ya que tenderá a predecir con mayor facilidad la clase “positiva”.\n",
        "\n",
        "Por ello, en fases posteriores se podrían aplicar técnicas de balanceo de datos (como sobremuestreo o ajuste de pesos por clase) para mejorar la capacidad del modelo de reconocer sentimientos negativos y neutrales."
      ],
      "metadata": {
        "id": "tR2zqGjQErVg"
      }
    },
    {
      "cell_type": "markdown",
      "source": [
        "División de los datos en entrenamiento y prueba\n",
        "\n",
        "Primero, separaremos las columnas que vamos a usar:\n",
        "\n",
        "X → el texto de las reseñas (Text)\n",
        "\n",
        "y → el sentimiento (Sentiment)\n",
        "\n",
        "Y luego dividiremos el dataset para que:\n",
        "\n",
        "una parte (por ejemplo, el 80%) se use para entrenar el modelo,\n",
        "\n",
        "y la otra (el 20%) para evaluarlo."
      ],
      "metadata": {
        "id": "pijJ4gxDFYYx"
      }
    },
    {
      "cell_type": "code",
      "source": [
        "from sklearn.model_selection import train_test_split\n",
        "\n",
        "# Definir variables independientes (X) y dependientes (y)\n",
        "X = df[\"Text\"]      # Reseñas (texto)\n",
        "y = df[\"Sentiment\"] # Sentimiento (positivo, negativo, neutral)\n",
        "\n",
        "# Dividir en datos de entrenamiento y prueba (80% - 20%)\n",
        "X_train, X_test, y_train, y_test = train_test_split(\n",
        "    X, y, test_size=0.2, random_state=42, stratify=y\n",
        ")\n",
        "\n",
        "# Confirmar el tamaño de los conjuntos\n",
        "print(\"Tamaño del conjunto de entrenamiento:\", X_train.shape[0])\n",
        "print(\"Tamaño del conjunto de prueba:\", X_test.shape[0])\n"
      ],
      "metadata": {
        "colab": {
          "base_uri": "https://localhost:8080/"
        },
        "id": "RG6V2tUwFRr6",
        "outputId": "5ddc4a28-c386-4197-f12b-eec6855fc32e"
      },
      "execution_count": 19,
      "outputs": [
        {
          "output_type": "stream",
          "name": "stdout",
          "text": [
            "Tamaño del conjunto de entrenamiento: 206316\n",
            "Tamaño del conjunto de prueba: 51580\n"
          ]
        }
      ]
    },
    {
      "cell_type": "markdown",
      "source": [
        "Paso 2. Vectorización del texto con CountVectorizer\n",
        "\n",
        "Como los modelos de machine learning no entienden texto, solo números, debemos transformar las palabras en una representación numérica.\n",
        "\n",
        "Una forma básica y muy usada es el modelo de “bolsa de palabras” (Bag of Words) con CountVectorizer, que:\n",
        "\n",
        "Extrae todas las palabras únicas del texto.\n",
        "\n",
        "Crea una columna para cada palabra.\n",
        "\n",
        "Cuenta cuántas veces aparece cada palabra en cada reseña."
      ],
      "metadata": {
        "id": "fUGWBmRfGVFX"
      }
    },
    {
      "cell_type": "code",
      "source": [
        "from sklearn.feature_extraction.text import CountVectorizer\n",
        "\n",
        "# Crear el vectorizador\n",
        "vectorizer = CountVectorizer(stop_words='english')  # eliminamos palabras comunes (the, and, etc.)\n",
        "\n",
        "# Ajustar el vectorizador y transformar los datos de entrenamiento\n",
        "X_train_vect = vectorizer.fit_transform(X_train)\n",
        "\n",
        "# Transformar los datos de prueba (sin volver a ajustar)\n",
        "X_test_vect = vectorizer.transform(X_test)\n",
        "\n",
        "# Mostrar dimensiones\n",
        "print(\"Dimensiones de X_train_vect:\", X_train_vect.shape)\n",
        "print(\"Dimensiones de X_test_vect:\", X_test_vect.shape)\n"
      ],
      "metadata": {
        "colab": {
          "base_uri": "https://localhost:8080/"
        },
        "id": "ueQ9X9HXGoh7",
        "outputId": "be567205-0dfe-47de-f711-0f60a8a19906"
      },
      "execution_count": 20,
      "outputs": [
        {
          "output_type": "stream",
          "name": "stdout",
          "text": [
            "Dimensiones de X_train_vect: (206316, 77815)\n",
            "Dimensiones de X_test_vect: (51580, 77815)\n"
          ]
        }
      ]
    },
    {
      "cell_type": "markdown",
      "source": [
        "Interpretación de las dimensiones\n",
        "\n",
        "X_train_vect: (206,316, 77,815)\n",
        "X_test_vect: (51,580, 77,815)\n",
        "\n",
        "Esto quiere decir que:\n",
        "\n",
        "Elemento\tSignificado\n",
        "206,316 / 51,580\tNúmero de reseñas (filas) en entrenamiento y prueba, respectivamente.\n",
        "77,815\tNúmero de palabras únicas (características) que el vectorizador detectó en todo el texto.\n",
        "\n",
        "lo que quiere decir:\n",
        "\n",
        "Cada reseña se convierte en una fila.\n",
        "\n",
        "Cada palabra única se convierte en una columna.\n",
        "\n",
        "En las celdas hay un conteo de cuántas veces aparece esa palabra en la reseña."
      ],
      "metadata": {
        "id": "-e7dsSy5G7Yv"
      }
    },
    {
      "cell_type": "markdown",
      "source": [
        "Entrenamiento del modelo"
      ],
      "metadata": {
        "id": "kYFNNfLPHbr1"
      }
    },
    {
      "cell_type": "code",
      "source": [
        "from sklearn.naive_bayes import MultinomialNB\n",
        "\n",
        "# Crear el modelo Naive Bayes\n",
        "nb_model = MultinomialNB()\n",
        "\n",
        "# Entrenar el modelo con los datos vectorizados\n",
        "nb_model.fit(X_train_vect, y_train)\n",
        "\n",
        "print(\"✅ Modelo Naive Bayes entrenado correctamente.\")\n"
      ],
      "metadata": {
        "colab": {
          "base_uri": "https://localhost:8080/"
        },
        "id": "qGCUE1swHfjh",
        "outputId": "584abc80-4d49-43bf-d8e1-4fa619612858"
      },
      "execution_count": 21,
      "outputs": [
        {
          "output_type": "stream",
          "name": "stdout",
          "text": [
            "✅ Modelo Naive Bayes entrenado correctamente.\n"
          ]
        }
      ]
    },
    {
      "cell_type": "markdown",
      "source": [
        "en este paso MultinomialNB() crea un modelo basado en la probabilidad de ocurrencia de palabras.\n",
        "\n",
        "fit(X_train_vect, y_train) hace que el modelo “aprenda” cómo las combinaciones de palabras se asocian con sentimientos positivos, negativos o neutros.\n",
        "\n",
        "Por ejemplo:\n",
        "\n",
        "Si ve palabras como excellent, great, love, aprende que suelen estar en reseñas positivas.\n",
        "\n",
        "Si ve terrible, waste, bad, las asocia con reseñas negativas."
      ],
      "metadata": {
        "id": "q3lMq72ZHoS7"
      }
    },
    {
      "cell_type": "markdown",
      "source": [
        "Evaluar el modelo"
      ],
      "metadata": {
        "id": "gTQpUQwdHv5x"
      }
    },
    {
      "cell_type": "code",
      "source": [
        "from sklearn.metrics import classification_report, confusion_matrix\n",
        "\n",
        "# Hacer predicciones sobre el conjunto de prueba\n",
        "y_pred = nb_model.predict(X_test_vect)\n",
        "\n",
        "# Mostrar métricas de evaluación\n",
        "print(\"🔹 Reporte de clasificación:\\n\")\n",
        "print(classification_report(y_test, y_pred))\n",
        "\n",
        "# Mostrar matriz de confusión\n",
        "cm = confusion_matrix(y_test, y_pred)\n",
        "sns.heatmap(cm, annot=True, fmt='d', cmap='Blues')\n",
        "plt.title(\"Matriz de confusión - Naive Bayes\")\n",
        "plt.xlabel(\"Predicho\")\n",
        "plt.ylabel(\"Real\")\n",
        "plt.show()\n"
      ],
      "metadata": {
        "colab": {
          "base_uri": "https://localhost:8080/",
          "height": 680
        },
        "id": "K9MNumirHzqD",
        "outputId": "46c7fb06-17fc-40ae-f1bd-84e5a100f43a"
      },
      "execution_count": 22,
      "outputs": [
        {
          "output_type": "stream",
          "name": "stdout",
          "text": [
            "🔹 Reporte de clasificación:\n",
            "\n",
            "              precision    recall  f1-score   support\n",
            "\n",
            "    negative       0.66      0.63      0.65      7532\n",
            "     neutral       0.37      0.28      0.32      4038\n",
            "    positive       0.90      0.93      0.91     40010\n",
            "\n",
            "    accuracy                           0.83     51580\n",
            "   macro avg       0.64      0.61      0.63     51580\n",
            "weighted avg       0.82      0.83      0.83     51580\n",
            "\n"
          ]
        },
        {
          "output_type": "display_data",
          "data": {
            "text/plain": [
              "<Figure size 640x480 with 2 Axes>"
            ],
            "image/png": "[encoded data removed]"
          },
          "metadata": {}
        }
      ]
    },
    {
      "cell_type": "markdown",
      "source": [
        "aca vemos : Reporte de clasificación con:\n",
        "\n",
        "precision: porcentaje de aciertos por clase\n",
        "\n",
        "recall: cuántos positivos detectó correctamente\n",
        "\n",
        "f1-score: equilibrio entre ambas\n",
        "\n",
        "support: cantidad de ejemplos por clase\n",
        "\n",
        "Matriz de confusión:\n",
        "\n",
        "Muestra cuántas reseñas positivas, negativas y neutras fueron correctamente clasificadas y cuántas se confundieron."
      ],
      "metadata": {
        "id": "mkhSQN4-Ikgg"
      }
    },
    {
      "cell_type": "markdown",
      "source": [
        "| Métrica       | Qué significa                                                                            |\n",
        "| ------------- | ---------------------------------------------------------------------------------------- |\n",
        "| **Precision** | De todas las reseñas que el modelo *predijo* como una clase, ¿cuántas acertó?            |\n",
        "| **Recall**    | De todas las reseñas que *realmente* eran de esa clase, ¿cuántas detectó bien el modelo? |\n",
        "| **F1-score**  | Promedio balanceado entre precisión y recall (valores cercanos a 1 son mejores).         |\n",
        "| **Support**   | Cuántos ejemplos había de cada clase en el conjunto de prueba.                           |\n"
      ],
      "metadata": {
        "id": "dgGuEDiSIsMA"
      }
    },
    {
      "cell_type": "markdown",
      "source": [
        "| Sentimiento                       | Precisión    | Recall                                                                                                                                          | F1-score | Interpretación |\n",
        "| --------------------------------- | ------------ | ----------------------------------------------------------------------------------------------------------------------------------------------- | -------- | -------------- |\n",
        "| **Positivo (0.90 / 0.93 / 0.91)** | Muy alto ✅   | El modelo identifica muy bien las reseñas positivas. Esto se debe a que había muchas en el dataset (el modelo tuvo más ejemplos para aprender). |          |                |\n",
        "| **Negativo (0.66 / 0.63 / 0.65)** | Aceptable ⚠️ | El modelo acierta bastante con las reseñas negativas, aunque confunde algunas con positivas.                                                    |          |                |\n",
        "| **Neutral (0.37 / 0.28 / 0.32)**  | Bajo ❌       | Le cuesta distinguir las reseñas neutras, probablemente porque hay menos ejemplos y el lenguaje es más ambiguo.                                 |          |                |\n"
      ],
      "metadata": {
        "id": "Gn2HXhwOIwhN"
      }
    },
    {
      "cell_type": "markdown",
      "source": [
        "Métricas generales\n",
        "\n",
        "Accuracy general: 0.83 (83%) → Muy buen resultado para un modelo básico como Naive Bayes.\n",
        "\n",
        "Macro avg (0.63) → Promedio simple entre clases (mide equidad).\n",
        "\n",
        "Weighted avg (0.83) → Promedio ponderado según cuántos ejemplos tiene cada clase.\n",
        "\n",
        "Es alto porque la clase positiva domina el dataset."
      ],
      "metadata": {
        "id": "i6tX_rDaI45N"
      }
    },
    {
      "cell_type": "markdown",
      "source": [
        "Conclusión\n",
        "\n",
        "este modelo:\n",
        "\n",
        "Aprende muy bien los positivos ✅\n",
        "\n",
        "Reconoce moderadamente los negativos ⚠️\n",
        "\n",
        "Tiene dificultades con los neutros ❌\n",
        "\n",
        "Esto es totalmente esperado en datasets desbalanceados, donde los positivos son mayoría."
      ],
      "metadata": {
        "id": "iJOUjWkJI9Go"
      }
    },
    {
      "cell_type": "markdown",
      "source": [
        "Paso 5: Probar el modelo con reseñas nuevas"
      ],
      "metadata": {
        "id": "ry1OJKmkJWy2"
      }
    },
    {
      "cell_type": "code",
      "source": [
        "from sklearn.linear_model import LogisticRegression\n",
        "\n",
        "model = LogisticRegression(max_iter=1000)\n",
        "model.fit(X_train_vect, y_train)\n"
      ],
      "metadata": {
        "colab": {
          "base_uri": "https://localhost:8080/",
          "height": 80
        },
        "id": "y6M1AcS6Jn0R",
        "outputId": "7c7a8cfb-b976-4473-a726-1a13e24891e5"
      },
      "execution_count": 24,
      "outputs": [
        {
          "output_type": "execute_result",
          "data": {
            "text/plain": [
              "LogisticRegression(max_iter=1000)"
            ],
            "text/html": [
              "<style>#sk-container-id-1 {\n",
              "  /* Definition of color scheme common for light and dark mode */\n",
              "  --sklearn-color-text: #000;\n",
              "  --sklearn-color-text-muted: #666;\n",
              "  --sklearn-color-line: gray;\n",
              "  /* Definition of color scheme for unfitted estimators */\n",
              "  --sklearn-color-unfitted-level-0: #fff5e6;\n",
              "  --sklearn-color-unfitted-level-1: #f6e4d2;\n",
              "  --sklearn-color-unfitted-level-2: #ffe0b3;\n",
              "  --sklearn-color-unfitted-level-3: chocolate;\n",
              "  /* Definition of color scheme for fitted estimators */\n",
              "  --sklearn-color-fitted-level-0: #f0f8ff;\n",
              "  --sklearn-color-fitted-level-1: #d4ebff;\n",
              "  --sklearn-color-fitted-level-2: #b3dbfd;\n",
              "  --sklearn-color-fitted-level-3: cornflowerblue;\n",
              "\n",
              "  /* Specific color for light theme */\n",
              "  --sklearn-color-text-on-default-background: var(--sg-text-color, var(--theme-code-foreground, var(--jp-content-font-color1, black)));\n",
              "  --sklearn-color-background: var(--sg-background-color, var(--theme-background, var(--jp-layout-color0, white)));\n",
              "  --sklearn-color-border-box: var(--sg-text-color, var(--theme-code-foreground, var(--jp-content-font-color1, black)));\n",
              "  --sklearn-color-icon: #696969;\n",
              "\n",
              "  @media (prefers-color-scheme: dark) {\n",
              "    /* Redefinition of color scheme for dark theme */\n",
              "    --sklearn-color-text-on-default-background: var(--sg-text-color, var(--theme-code-foreground, var(--jp-content-font-color1, white)));\n",
              "    --sklearn-color-background: var(--sg-background-color, var(--theme-background, var(--jp-layout-color0, #111)));\n",
              "    --sklearn-color-border-box: var(--sg-text-color, var(--theme-code-foreground, var(--jp-content-font-color1, white)));\n",
              "    --sklearn-color-icon: #878787;\n",
              "  }\n",
              "}\n",
              "\n",
              "#sk-container-id-1 {\n",
              "  color: var(--sklearn-color-text);\n",
              "}\n",
              "\n",
              "#sk-container-id-1 pre {\n",
              "  padding: 0;\n",
              "}\n",
              "\n",
              "#sk-container-id-1 input.sk-hidden--visually {\n",
              "  border: 0;\n",
              "  clip: rect(1px 1px 1px 1px);\n",
              "  clip: rect(1px, 1px, 1px, 1px);\n",
              "  height: 1px;\n",
              "  margin: -1px;\n",
              "  overflow: hidden;\n",
              "  padding: 0;\n",
              "  position: absolute;\n",
              "  width: 1px;\n",
              "}\n",
              "\n",
              "#sk-container-id-1 div.sk-dashed-wrapped {\n",
              "  border: 1px dashed var(--sklearn-color-line);\n",
              "  margin: 0 0.4em 0.5em 0.4em;\n",
              "  box-sizing: border-box;\n",
              "  padding-bottom: 0.4em;\n",
              "  background-color: var(--sklearn-color-background);\n",
              "}\n",
              "\n",
              "#sk-container-id-1 div.sk-container {\n",
              "  /* jupyter's `normalize.less` sets `[hidden] { display: none; }`\n",
              "     but bootstrap.min.css set `[hidden] { display: none !important; }`\n",
              "     so we also need the `!important` here to be able to override the\n",
              "     default hidden behavior on the sphinx rendered scikit-learn.org.\n",
              "     See: https://github.com/scikit-learn/scikit-learn/issues/21755 */\n",
              "  display: inline-block !important;\n",
              "  position: relative;\n",
              "}\n",
              "\n",
              "#sk-container-id-1 div.sk-text-repr-fallback {\n",
              "  display: none;\n",
              "}\n",
              "\n",
              "div.sk-parallel-item,\n",
              "div.sk-serial,\n",
              "div.sk-item {\n",
              "  /* draw centered vertical line to link estimators */\n",
              "  background-image: linear-gradient(var(--sklearn-color-text-on-default-background), var(--sklearn-color-text-on-default-background));\n",
              "  background-size: 2px 100%;\n",
              "  background-repeat: no-repeat;\n",
              "  background-position: center center;\n",
              "}\n",
              "\n",
              "/* Parallel-specific style estimator block */\n",
              "\n",
              "#sk-container-id-1 div.sk-parallel-item::after {\n",
              "  content: \"\";\n",
              "  width: 100%;\n",
              "  border-bottom: 2px solid var(--sklearn-color-text-on-default-background);\n",
              "  flex-grow: 1;\n",
              "}\n",
              "\n",
              "#sk-container-id-1 div.sk-parallel {\n",
              "  display: flex;\n",
              "  align-items: stretch;\n",
              "  justify-content: center;\n",
              "  background-color: var(--sklearn-color-background);\n",
              "  position: relative;\n",
              "}\n",
              "\n",
              "#sk-container-id-1 div.sk-parallel-item {\n",
              "  display: flex;\n",
              "  flex-direction: column;\n",
              "}\n",
              "\n",
              "#sk-container-id-1 div.sk-parallel-item:first-child::after {\n",
              "  align-self: flex-end;\n",
              "  width: 50%;\n",
              "}\n",
              "\n",
              "#sk-container-id-1 div.sk-parallel-item:last-child::after {\n",
              "  align-self: flex-start;\n",
              "  width: 50%;\n",
              "}\n",
              "\n",
              "#sk-container-id-1 div.sk-parallel-item:only-child::after {\n",
              "  width: 0;\n",
              "}\n",
              "\n",
              "/* Serial-specific style estimator block */\n",
              "\n",
              "#sk-container-id-1 div.sk-serial {\n",
              "  display: flex;\n",
              "  flex-direction: column;\n",
              "  align-items: center;\n",
              "  background-color: var(--sklearn-color-background);\n",
              "  padding-right: 1em;\n",
              "  padding-left: 1em;\n",
              "}\n",
              "\n",
              "\n",
              "/* Toggleable style: style used for estimator/Pipeline/ColumnTransformer box that is\n",
              "clickable and can be expanded/collapsed.\n",
              "- Pipeline and ColumnTransformer use this feature and define the default style\n",
              "- Estimators will overwrite some part of the style using the `sk-estimator` class\n",
              "*/\n",
              "\n",
              "/* Pipeline and ColumnTransformer style (default) */\n",
              "\n",
              "#sk-container-id-1 div.sk-toggleable {\n",
              "  /* Default theme specific background. It is overwritten whether we have a\n",
              "  specific estimator or a Pipeline/ColumnTransformer */\n",
              "  background-color: var(--sklearn-color-background);\n",
              "}\n",
              "\n",
              "/* Toggleable label */\n",
              "#sk-container-id-1 label.sk-toggleable__label {\n",
              "  cursor: pointer;\n",
              "  display: flex;\n",
              "  width: 100%;\n",
              "  margin-bottom: 0;\n",
              "  padding: 0.5em;\n",
              "  box-sizing: border-box;\n",
              "  text-align: center;\n",
              "  align-items: start;\n",
              "  justify-content: space-between;\n",
              "  gap: 0.5em;\n",
              "}\n",
              "\n",
              "#sk-container-id-1 label.sk-toggleable__label .caption {\n",
              "  font-size: 0.6rem;\n",
              "  font-weight: lighter;\n",
              "  color: var(--sklearn-color-text-muted);\n",
              "}\n",
              "\n",
              "#sk-container-id-1 label.sk-toggleable__label-arrow:before {\n",
              "  /* Arrow on the left of the label */\n",
              "  content: \"▸\";\n",
              "  float: left;\n",
              "  margin-right: 0.25em;\n",
              "  color: var(--sklearn-color-icon);\n",
              "}\n",
              "\n",
              "#sk-container-id-1 label.sk-toggleable__label-arrow:hover:before {\n",
              "  color: var(--sklearn-color-text);\n",
              "}\n",
              "\n",
              "/* Toggleable content - dropdown */\n",
              "\n",
              "#sk-container-id-1 div.sk-toggleable__content {\n",
              "  max-height: 0;\n",
              "  max-width: 0;\n",
              "  overflow: hidden;\n",
              "  text-align: left;\n",
              "  /* unfitted */\n",
              "  background-color: var(--sklearn-color-unfitted-level-0);\n",
              "}\n",
              "\n",
              "#sk-container-id-1 div.sk-toggleable__content.fitted {\n",
              "  /* fitted */\n",
              "  background-color: var(--sklearn-color-fitted-level-0);\n",
              "}\n",
              "\n",
              "#sk-container-id-1 div.sk-toggleable__content pre {\n",
              "  margin: 0.2em;\n",
              "  border-radius: 0.25em;\n",
              "  color: var(--sklearn-color-text);\n",
              "  /* unfitted */\n",
              "  background-color: var(--sklearn-color-unfitted-level-0);\n",
              "}\n",
              "\n",
              "#sk-container-id-1 div.sk-toggleable__content.fitted pre {\n",
              "  /* unfitted */\n",
              "  background-color: var(--sklearn-color-fitted-level-0);\n",
              "}\n",
              "\n",
              "#sk-container-id-1 input.sk-toggleable__control:checked~div.sk-toggleable__content {\n",
              "  /* Expand drop-down */\n",
              "  max-height: 200px;\n",
              "  max-width: 100%;\n",
              "  overflow: auto;\n",
              "}\n",
              "\n",
              "#sk-container-id-1 input.sk-toggleable__control:checked~label.sk-toggleable__label-arrow:before {\n",
              "  content: \"▾\";\n",
              "}\n",
              "\n",
              "/* Pipeline/ColumnTransformer-specific style */\n",
              "\n",
              "#sk-container-id-1 div.sk-label input.sk-toggleable__control:checked~label.sk-toggleable__label {\n",
              "  color: var(--sklearn-color-text);\n",
              "  background-color: var(--sklearn-color-unfitted-level-2);\n",
              "}\n",
              "\n",
              "#sk-container-id-1 div.sk-label.fitted input.sk-toggleable__control:checked~label.sk-toggleable__label {\n",
              "  background-color: var(--sklearn-color-fitted-level-2);\n",
              "}\n",
              "\n",
              "/* Estimator-specific style */\n",
              "\n",
              "/* Colorize estimator box */\n",
              "#sk-container-id-1 div.sk-estimator input.sk-toggleable__control:checked~label.sk-toggleable__label {\n",
              "  /* unfitted */\n",
              "  background-color: var(--sklearn-color-unfitted-level-2);\n",
              "}\n",
              "\n",
              "#sk-container-id-1 div.sk-estimator.fitted input.sk-toggleable__control:checked~label.sk-toggleable__label {\n",
              "  /* fitted */\n",
              "  background-color: var(--sklearn-color-fitted-level-2);\n",
              "}\n",
              "\n",
              "#sk-container-id-1 div.sk-label label.sk-toggleable__label,\n",
              "#sk-container-id-1 div.sk-label label {\n",
              "  /* The background is the default theme color */\n",
              "  color: var(--sklearn-color-text-on-default-background);\n",
              "}\n",
              "\n",
              "/* On hover, darken the color of the background */\n",
              "#sk-container-id-1 div.sk-label:hover label.sk-toggleable__label {\n",
              "  color: var(--sklearn-color-text);\n",
              "  background-color: var(--sklearn-color-unfitted-level-2);\n",
              "}\n",
              "\n",
              "/* Label box, darken color on hover, fitted */\n",
              "#sk-container-id-1 div.sk-label.fitted:hover label.sk-toggleable__label.fitted {\n",
              "  color: var(--sklearn-color-text);\n",
              "  background-color: var(--sklearn-color-fitted-level-2);\n",
              "}\n",
              "\n",
              "/* Estimator label */\n",
              "\n",
              "#sk-container-id-1 div.sk-label label {\n",
              "  font-family: monospace;\n",
              "  font-weight: bold;\n",
              "  display: inline-block;\n",
              "  line-height: 1.2em;\n",
              "}\n",
              "\n",
              "#sk-container-id-1 div.sk-label-container {\n",
              "  text-align: center;\n",
              "}\n",
              "\n",
              "/* Estimator-specific */\n",
              "#sk-container-id-1 div.sk-estimator {\n",
              "  font-family: monospace;\n",
              "  border: 1px dotted var(--sklearn-color-border-box);\n",
              "  border-radius: 0.25em;\n",
              "  box-sizing: border-box;\n",
              "  margin-bottom: 0.5em;\n",
              "  /* unfitted */\n",
              "  background-color: var(--sklearn-color-unfitted-level-0);\n",
              "}\n",
              "\n",
              "#sk-container-id-1 div.sk-estimator.fitted {\n",
              "  /* fitted */\n",
              "  background-color: var(--sklearn-color-fitted-level-0);\n",
              "}\n",
              "\n",
              "/* on hover */\n",
              "#sk-container-id-1 div.sk-estimator:hover {\n",
              "  /* unfitted */\n",
              "  background-color: var(--sklearn-color-unfitted-level-2);\n",
              "}\n",
              "\n",
              "#sk-container-id-1 div.sk-estimator.fitted:hover {\n",
              "  /* fitted */\n",
              "  background-color: var(--sklearn-color-fitted-level-2);\n",
              "}\n",
              "\n",
              "/* Specification for estimator info (e.g. \"i\" and \"?\") */\n",
              "\n",
              "/* Common style for \"i\" and \"?\" */\n",
              "\n",
              ".sk-estimator-doc-link,\n",
              "a:link.sk-estimator-doc-link,\n",
              "a:visited.sk-estimator-doc-link {\n",
              "  float: right;\n",
              "  font-size: smaller;\n",
              "  line-height: 1em;\n",
              "  font-family: monospace;\n",
              "  background-color: var(--sklearn-color-background);\n",
              "  border-radius: 1em;\n",
              "  height: 1em;\n",
              "  width: 1em;\n",
              "  text-decoration: none !important;\n",
              "  margin-left: 0.5em;\n",
              "  text-align: center;\n",
              "  /* unfitted */\n",
              "  border: var(--sklearn-color-unfitted-level-1) 1pt solid;\n",
              "  color: var(--sklearn-color-unfitted-level-1);\n",
              "}\n",
              "\n",
              ".sk-estimator-doc-link.fitted,\n",
              "a:link.sk-estimator-doc-link.fitted,\n",
              "a:visited.sk-estimator-doc-link.fitted {\n",
              "  /* fitted */\n",
              "  border: var(--sklearn-color-fitted-level-1) 1pt solid;\n",
              "  color: var(--sklearn-color-fitted-level-1);\n",
              "}\n",
              "\n",
              "/* On hover */\n",
              "div.sk-estimator:hover .sk-estimator-doc-link:hover,\n",
              ".sk-estimator-doc-link:hover,\n",
              "div.sk-label-container:hover .sk-estimator-doc-link:hover,\n",
              ".sk-estimator-doc-link:hover {\n",
              "  /* unfitted */\n",
              "  background-color: var(--sklearn-color-unfitted-level-3);\n",
              "  color: var(--sklearn-color-background);\n",
              "  text-decoration: none;\n",
              "}\n",
              "\n",
              "div.sk-estimator.fitted:hover .sk-estimator-doc-link.fitted:hover,\n",
              ".sk-estimator-doc-link.fitted:hover,\n",
              "div.sk-label-container:hover .sk-estimator-doc-link.fitted:hover,\n",
              ".sk-estimator-doc-link.fitted:hover {\n",
              "  /* fitted */\n",
              "  background-color: var(--sklearn-color-fitted-level-3);\n",
              "  color: var(--sklearn-color-background);\n",
              "  text-decoration: none;\n",
              "}\n",
              "\n",
              "/* Span, style for the box shown on hovering the info icon */\n",
              ".sk-estimator-doc-link span {\n",
              "  display: none;\n",
              "  z-index: 9999;\n",
              "  position: relative;\n",
              "  font-weight: normal;\n",
              "  right: .2ex;\n",
              "  padding: .5ex;\n",
              "  margin: .5ex;\n",
              "  width: min-content;\n",
              "  min-width: 20ex;\n",
              "  max-width: 50ex;\n",
              "  color: var(--sklearn-color-text);\n",
              "  box-shadow: 2pt 2pt 4pt #999;\n",
              "  /* unfitted */\n",
              "  background: var(--sklearn-color-unfitted-level-0);\n",
              "  border: .5pt solid var(--sklearn-color-unfitted-level-3);\n",
              "}\n",
              "\n",
              ".sk-estimator-doc-link.fitted span {\n",
              "  /* fitted */\n",
              "  background: var(--sklearn-color-fitted-level-0);\n",
              "  border: var(--sklearn-color-fitted-level-3);\n",
              "}\n",
              "\n",
              ".sk-estimator-doc-link:hover span {\n",
              "  display: block;\n",
              "}\n",
              "\n",
              "/* \"?\"-specific style due to the `<a>` HTML tag */\n",
              "\n",
              "#sk-container-id-1 a.estimator_doc_link {\n",
              "  float: right;\n",
              "  font-size: 1rem;\n",
              "  line-height: 1em;\n",
              "  font-family: monospace;\n",
              "  background-color: var(--sklearn-color-background);\n",
              "  border-radius: 1rem;\n",
              "  height: 1rem;\n",
              "  width: 1rem;\n",
              "  text-decoration: none;\n",
              "  /* unfitted */\n",
              "  color: var(--sklearn-color-unfitted-level-1);\n",
              "  border: var(--sklearn-color-unfitted-level-1) 1pt solid;\n",
              "}\n",
              "\n",
              "#sk-container-id-1 a.estimator_doc_link.fitted {\n",
              "  /* fitted */\n",
              "  border: var(--sklearn-color-fitted-level-1) 1pt solid;\n",
              "  color: var(--sklearn-color-fitted-level-1);\n",
              "}\n",
              "\n",
              "/* On hover */\n",
              "#sk-container-id-1 a.estimator_doc_link:hover {\n",
              "  /* unfitted */\n",
              "  background-color: var(--sklearn-color-unfitted-level-3);\n",
              "  color: var(--sklearn-color-background);\n",
              "  text-decoration: none;\n",
              "}\n",
              "\n",
              "#sk-container-id-1 a.estimator_doc_link.fitted:hover {\n",
              "  /* fitted */\n",
              "  background-color: var(--sklearn-color-fitted-level-3);\n",
              "}\n",
              "</style><div id=\"sk-container-id-1\" class=\"sk-top-container\"><div class=\"sk-text-repr-fallback\"><pre>LogisticRegression(max_iter=1000)</pre><b>In a Jupyter environment, please rerun this cell to show the HTML representation or trust the notebook. <br />On GitHub, the HTML representation is unable to render, please try loading this page with nbviewer.org.</b></div><div class=\"sk-container\" hidden><div class=\"sk-item\"><div class=\"sk-estimator fitted sk-toggleable\"><input class=\"sk-toggleable__control sk-hidden--visually\" id=\"sk-estimator-id-1\" type=\"checkbox\" checked><label for=\"sk-estimator-id-1\" class=\"sk-toggleable__label fitted sk-toggleable__label-arrow\"><div><div>LogisticRegression</div></div><div><a class=\"sk-estimator-doc-link fitted\" rel=\"noreferrer\" target=\"_blank\" href=\"https://scikit-learn.org/1.6/modules/generated/sklearn.linear_model.LogisticRegression.html\">?<span>Documentation for LogisticRegression</span></a><span class=\"sk-estimator-doc-link fitted\">i<span>Fitted</span></span></div></label><div class=\"sk-toggleable__content fitted\"><pre>LogisticRegression(max_iter=1000)</pre></div> </div></div></div></div>"
            ]
          },
          "metadata": {},
          "execution_count": 24
        }
      ]
    },
    {
      "cell_type": "code",
      "source": [
        "# Ejemplo de nuevas reseñas\n",
        "nuevas_reseñas = [\n",
        "    \"El producto es excelente, llegó rápido y funciona perfecto.\",\n",
        "    \"No me gustó, vino dañado y el servicio fue pésimo.\",\n",
        "    \"Está bien, cumple lo que promete pero nada especial.\"\n",
        "]\n",
        "\n",
        "# Convertir el texto a vectores usando el mismo vectorizador\n",
        "nuevas_vect = vectorizer.transform(nuevas_reseñas)\n",
        "\n",
        "# Hacer las predicciones\n",
        "predicciones = model.predict(nuevas_vect)\n",
        "\n",
        "# Mostrar resultados\n",
        "for texto, sentimiento in zip(nuevas_reseñas, predicciones):\n",
        "    print(f\"Reseña: {texto}\")\n",
        "    print(f\"Predicción del modelo: {sentimiento}\")\n",
        "    print(\"-\" * 50)\n"
      ],
      "metadata": {
        "colab": {
          "base_uri": "https://localhost:8080/"
        },
        "id": "hmozYb2UJZEq",
        "outputId": "a2313793-01e9-40cd-e013-4eeca579ba6f"
      },
      "execution_count": 25,
      "outputs": [
        {
          "output_type": "stream",
          "name": "stdout",
          "text": [
            "Reseña: El producto es excelente, llegó rápido y funciona perfecto.\n",
            "Predicción del modelo: positive\n",
            "--------------------------------------------------\n",
            "Reseña: No me gustó, vino dañado y el servicio fue pésimo.\n",
            "Predicción del modelo: positive\n",
            "--------------------------------------------------\n",
            "Reseña: Está bien, cumple lo que promete pero nada especial.\n",
            "Predicción del modelo: positive\n",
            "--------------------------------------------------\n"
          ]
        }
      ]
    },
    {
      "cell_type": "markdown",
      "source": [
        "este es un resultado típico cuando el modelo se entrenó con un dataset desbalanceado, como el tuyo (recuerda: 77 % positivas, 15 % negativas y 8 % neutras).\n",
        "\n",
        "Por eso predice “positive” para casi todo — aprendió a “jugar a lo seguro” y decir que todo es positivo, porque así acierta en la mayoría de los casos, lo que quiere decir que el modelo sí funciona (clasifica texto en sentimientos).\n",
        "\n",
        "Pero no está equilibrado, así que no entiende bien los casos negativos o neutros."
      ],
      "metadata": {
        "id": "V4RyiYlLKs_L"
      }
    }
  ]
}